{
  "nbformat": 4,
  "nbformat_minor": 0,
  "metadata": {
    "colab": {
      "provenance": [],
      "authorship_tag": "ABX9TyM64qq+Dc/SAy0B4lesSt93",
      "include_colab_link": true
    },
    "kernelspec": {
      "name": "python3",
      "display_name": "Python 3"
    },
    "language_info": {
      "name": "python"
    }
  },
  "cells": [
    {
      "cell_type": "markdown",
      "metadata": {
        "id": "view-in-github",
        "colab_type": "text"
      },
      "source": [
        "<a href=\"https://colab.research.google.com/github/SakshiH14/CODEWAY_Tasks/blob/main/Codeway_Task5.ipynb\" target=\"_parent\"><img src=\"https://colab.research.google.com/assets/colab-badge.svg\" alt=\"Open In Colab\"/></a>"
      ]
    },
    {
      "cell_type": "code",
      "execution_count": 1,
      "metadata": {
        "colab": {
          "base_uri": "https://localhost:8080/"
        },
        "id": "ivIX1jJUlsF6",
        "outputId": "6dac9cfc-2053-42de-f1ce-c3cd059e87a6"
      },
      "outputs": [
        {
          "output_type": "stream",
          "name": "stdout",
          "text": [
            "Welcome to the Quiz Game!\n",
            "Answer the following questions and test your knowledge.\n",
            "\n",
            "What is the largest mammal?\n",
            "A. Elephant\n",
            "B. Blue Whale\n",
            "C. Giraffe\n",
            "Enter your answer (A, B, or C): B\n",
            "Correct!\n",
            "\n",
            "What is the capital of France?\n",
            "A. Paris\n",
            "B. Rome\n",
            "C. Berlin\n",
            "Enter your answer (A, B, or C): C\n",
            "Incorrect. The correct answer is A.\n",
            "\n",
            "What is the capital of Japan?\n",
            "A. Beijing\n",
            "B. Seoul\n",
            "C. Tokyo\n",
            "Enter your answer (A, B, or C): C\n",
            "Correct!\n",
            "\n",
            "Quiz completed!\n",
            "Your final score is: 2/3\n",
            "Do you want to play again? (yes/no): no\n",
            "Thank you for playing!\n"
          ]
        }
      ],
      "source": [
        "import random\n",
        "\n",
        "class QuizGame:\n",
        "    def __init__(self):\n",
        "        self.questions = [\n",
        "            {\"question\": \"What is the capital of France?\", \"choices\": [\"A. Paris\", \"B. Rome\", \"C. Berlin\"], \"answer\": \"A\"},\n",
        "            {\"question\": \"What is the largest mammal?\", \"choices\": [\"A. Elephant\", \"B. Blue Whale\", \"C. Giraffe\"], \"answer\": \"B\"},\n",
        "            {\"question\": \"What is the capital of Japan?\", \"choices\": [\"A. Beijing\", \"B. Seoul\", \"C. Tokyo\"], \"answer\": \"C\"}\n",
        "            # Add more questions as needed\n",
        "        ]\n",
        "        self.score = 0\n",
        "\n",
        "    def display_welcome(self):\n",
        "        print(\"Welcome to the Quiz Game!\")\n",
        "        print(\"Answer the following questions and test your knowledge.\\n\")\n",
        "\n",
        "    def display_question(self, question):\n",
        "        print(question[\"question\"])\n",
        "        for choice in question[\"choices\"]:\n",
        "            print(choice)\n",
        "        user_answer = input(\"Enter your answer (A, B, or C): \").upper()\n",
        "        return user_answer\n",
        "\n",
        "    def evaluate_answer(self, user_answer, correct_answer):\n",
        "        if user_answer == correct_answer:\n",
        "            print(\"Correct!\\n\")\n",
        "            self.score += 1\n",
        "        else:\n",
        "            print(f\"Incorrect. The correct answer is {correct_answer}.\\n\")\n",
        "\n",
        "    def play_quiz(self):\n",
        "        self.display_welcome()\n",
        "\n",
        "        # Shuffle questions for variety\n",
        "        random.shuffle(self.questions)\n",
        "\n",
        "        for question in self.questions:\n",
        "            user_answer = self.display_question(question)\n",
        "            self.evaluate_answer(user_answer, question[\"answer\"])\n",
        "\n",
        "        self.display_final_results()\n",
        "\n",
        "    def display_final_results(self):\n",
        "        print(\"Quiz completed!\")\n",
        "        print(f\"Your final score is: {self.score}/{len(self.questions)}\")\n",
        "        play_again = input(\"Do you want to play again? (yes/no): \").lower()\n",
        "        if play_again == \"yes\":\n",
        "            self.reset_game()\n",
        "            self.play_quiz()\n",
        "        else:\n",
        "            print(\"Thank you for playing!\")\n",
        "\n",
        "    def reset_game(self):\n",
        "        self.score = 0\n",
        "        random.shuffle(self.questions)\n",
        "\n",
        "if __name__ == \"__main__\":\n",
        "    quiz = QuizGame()\n",
        "    quiz.play_quiz()\n"
      ]
    },
    {
      "cell_type": "markdown",
      "source": [
        "Develop a quiz game that asks users multiple-choice or fill-in-the-blank questions on a\n",
        "specific topic. The game should keep track of scores, provide feedback on\n",
        "correct/incorrect answers, and offer a variety of questions to make it challenging and\n",
        "engaging.\n",
        "Load Quiz Questions. Calculate the Final Score. Display Final Results: Display Welcome Message and Rules.\n",
        "Present Quiz Questions: Display each question and answer choice. Prompt the user to\n",
        "select an answer.\n",
        "Evaluate the User's Answer: Compare the user's answer with the correct answer. Keep\n",
        "track of the user's score.\n",
        "Provide Feedback: Display if the answer was correct or incorrect. Show the correct\n",
        "answer for incorrect responses.\n",
        "Play Again: Ask the user if they want to play again."
      ],
      "metadata": {
        "id": "M6KT40eco0mA"
      }
    }
  ]
}