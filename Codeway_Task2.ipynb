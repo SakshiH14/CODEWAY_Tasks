{
  "nbformat": 4,
  "nbformat_minor": 0,
  "metadata": {
    "colab": {
      "provenance": [],
      "authorship_tag": "ABX9TyOwGsAzPrqvTAGw3JwdZjWz",
      "include_colab_link": true
    },
    "kernelspec": {
      "name": "python3",
      "display_name": "Python 3"
    },
    "language_info": {
      "name": "python"
    }
  },
  "cells": [
    {
      "cell_type": "markdown",
      "metadata": {
        "id": "view-in-github",
        "colab_type": "text"
      },
      "source": [
        "<a href=\"https://colab.research.google.com/github/SakshiH14/CODEWAY_Tasks/blob/main/Codeway_Task2.ipynb\" target=\"_parent\"><img src=\"https://colab.research.google.com/assets/colab-badge.svg\" alt=\"Open In Colab\"/></a>"
      ]
    },
    {
      "cell_type": "code",
      "execution_count": null,
      "metadata": {
        "colab": {
          "base_uri": "https://localhost:8080/"
        },
        "id": "zZak2dgQhEnN",
        "outputId": "001cbe68-d5d1-435c-95a2-6eb3d3b3bedf"
      },
      "outputs": [
        {
          "output_type": "stream",
          "name": "stdout",
          "text": [
            "Enter the first number: 345\n",
            "Enter the second number: 498\n",
            "Select operation:\n",
            "1. Add\n",
            "2. Subtract\n",
            "3. Multiply\n",
            "4. Divide\n",
            "Enter choice (1/2/3/4): 3\n",
            "The result is: 171810.0\n"
          ]
        }
      ],
      "source": [
        "def add(x, y):\n",
        "    return x + y\n",
        "\n",
        "def subtract(x, y):\n",
        "    return x - y\n",
        "\n",
        "def multiply(x, y):\n",
        "    return x * y\n",
        "\n",
        "def divide(x, y):\n",
        "    if y != 0:\n",
        "        return x / y\n",
        "    else:\n",
        "        return \"Cannot divide by zero.\"\n",
        "\n",
        "# Input from the user\n",
        "num1 = float(input(\"Enter the first number: \"))\n",
        "num2 = float(input(\"Enter the second number: \"))\n",
        "\n",
        "print(\"Select operation:\")\n",
        "print(\"1. Add\")\n",
        "print(\"2. Subtract\")\n",
        "print(\"3. Multiply\")\n",
        "print(\"4. Divide\")\n",
        "\n",
        "choice = input(\"Enter choice (1/2/3/4): \")\n",
        "\n",
        "# Perform calculation based on user's choice\n",
        "if choice in ['1', '2', '3', '4']:\n",
        "    if choice == '1':\n",
        "        result = add(num1, num2)\n",
        "    elif choice == '2':\n",
        "        result = subtract(num1, num2)\n",
        "    elif choice == '3':\n",
        "        result = multiply(num1, num2)\n",
        "    elif choice == '4':\n",
        "        result = divide(num1, num2)\n",
        "\n",
        "    print(f\"The result is: {result}\")\n",
        "\n",
        "else:\n",
        "    print(\"Invalid input. Please enter a valid choice (1/2/3/4).\")\n"
      ]
    },
    {
      "cell_type": "markdown",
      "source": [
        "Design a simple calculator with basic arithmetic operations. Prompt the\n",
        "user to input two numbers and an operation choice. Perform the\n",
        "calculation and display the result."
      ],
      "metadata": {
        "id": "DyrJgI3SoqQY"
      }
    }
  ]
}