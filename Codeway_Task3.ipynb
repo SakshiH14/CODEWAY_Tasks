{
  "nbformat": 4,
  "nbformat_minor": 0,
  "metadata": {
    "colab": {
      "provenance": []
    },
    "kernelspec": {
      "name": "python3",
      "display_name": "Python 3"
    },
    "language_info": {
      "name": "python"
    }
  },
  "cells": [
    {
      "cell_type": "code",
      "execution_count": null,
      "metadata": {
        "colab": {
          "base_uri": "https://localhost:8080/"
        },
        "id": "NIt29rwjkLVL",
        "outputId": "1ddb9dab-dc3e-4633-8ce5-cd91948ff78a"
      },
      "outputs": [
        {
          "output_type": "stream",
          "name": "stdout",
          "text": [
            "Enter the desired length of the password: 8\n",
            "Generated Password: >dqk>tfS\n"
          ]
        }
      ],
      "source": [
        "import random\n",
        "import string\n",
        "\n",
        "def generate_password(length):\n",
        "    # Define character sets for the password\n",
        "    lowercase_letters = string.ascii_lowercase\n",
        "    uppercase_letters = string.ascii_uppercase\n",
        "    digits = string.digits\n",
        "    special_characters = string.punctuation\n",
        "\n",
        "    # Combine character sets based on user preferences\n",
        "    all_characters = lowercase_letters + uppercase_letters + digits + special_characters\n",
        "\n",
        "    # Ensure the password length is at least 8 characters\n",
        "    length = max(length, 8)\n",
        "\n",
        "    # Generate a random password using the selected character set\n",
        "    password = ''.join(random.choice(all_characters) for _ in range(length))\n",
        "\n",
        "    return password\n",
        "\n",
        "def main():\n",
        "    # Prompt the user to specify the desired length of the password\n",
        "    length = int(input(\"Enter the desired length of the password: \"))\n",
        "\n",
        "    # Generate the password\n",
        "    password = generate_password(length)\n",
        "\n",
        "    # Display the generated password\n",
        "    print(\"Generated Password:\", password)\n",
        "\n",
        "if __name__ == \"__main__\":\n",
        "    main()\n"
      ]
    },
    {
      "cell_type": "markdown",
      "source": [
        "TASK - 3 PASSWORD GENERATOR\n",
        "A password generator is a useful tool that generates strong and random passwords for\n",
        "users. This project aims to create a password generator application using Python,\n",
        "allowing users to specify the length and complexity of the password.\n",
        "User Input: Prompt the user to specify the desired length of the password.\n",
        "Generate Password: Use a combination of random characters to generate a password of\n",
        "the specified length.\n",
        "Display the Password: Print the generated password on the screen."
      ],
      "metadata": {
        "id": "pBB5u0uNoguV"
      }
    }
  ]
}