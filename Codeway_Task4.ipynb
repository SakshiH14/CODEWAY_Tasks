{
  "nbformat": 4,
  "nbformat_minor": 0,
  "metadata": {
    "colab": {
      "provenance": [],
      "authorship_tag": "ABX9TyOrJ4kkcj8eBE+iG8hiCpQm",
      "include_colab_link": true
    },
    "kernelspec": {
      "name": "python3",
      "display_name": "Python 3"
    },
    "language_info": {
      "name": "python"
    }
  },
  "cells": [
    {
      "cell_type": "markdown",
      "metadata": {
        "id": "view-in-github",
        "colab_type": "text"
      },
      "source": [
        "<a href=\"https://colab.research.google.com/github/SakshiH14/CODEWAY_Tasks/blob/main/Codeway_Task4.ipynb\" target=\"_parent\"><img src=\"https://colab.research.google.com/assets/colab-badge.svg\" alt=\"Open In Colab\"/></a>"
      ]
    },
    {
      "cell_type": "code",
      "execution_count": 2,
      "metadata": {
        "colab": {
          "base_uri": "https://localhost:8080/"
        },
        "id": "hBP3mRR2k2Wj",
        "outputId": "051cb919-65ca-4180-98af-7018c264725b"
      },
      "outputs": [
        {
          "output_type": "stream",
          "name": "stdout",
          "text": [
            "Enter the city name or zip code: 560100\n",
            "HTTP error occurred: 401 Client Error: Unauthorized for url: http://api.openweathermap.org/data/2.5/weather?q=560100&appid=YOUR_OPENWEATHERMAP_API_KEY&units=metric\n"
          ]
        }
      ],
      "source": [
        "import requests\n",
        "\n",
        "def get_weather(api_key, location):\n",
        "    base_url = \"http://api.openweathermap.org/data/2.5/weather\"\n",
        "    params = {\n",
        "        'q': location,\n",
        "        'appid': api_key,\n",
        "        'units': 'metric',  # You can change to 'imperial' for Fahrenheit\n",
        "    }\n",
        "\n",
        "    try:\n",
        "        response = requests.get(base_url, params=params)\n",
        "        response.raise_for_status()\n",
        "        weather_data = response.json()\n",
        "\n",
        "        return weather_data\n",
        "\n",
        "    except requests.exceptions.HTTPError as err:\n",
        "        print(f\"HTTP error occurred: {err}\")\n",
        "    except requests.exceptions.RequestException as err:\n",
        "        print(f\"Request error occurred: {err}\")\n",
        "\n",
        "def display_weather(weather_data):\n",
        "    if 'main' in weather_data and 'weather' in weather_data:\n",
        "        temperature = weather_data['main']['temp']\n",
        "        humidity = weather_data['main']['humidity']\n",
        "        description = weather_data['weather'][0]['description']\n",
        "\n",
        "        print(f\"\\nCurrent Weather:\")\n",
        "        print(f\"Temperature: {temperature}°C\")\n",
        "        print(f\"Humidity: {humidity}%\")\n",
        "        print(f\"Description: {description}\")\n",
        "    else:\n",
        "        print(\"Unable to fetch weather information.\")\n",
        "\n",
        "def main():\n",
        "    api_key = \"YOUR_OPENWEATHERMAP_API_KEY\"  # Replace with your API key\n",
        "    location = input(\"Enter the city name or zip code: \")\n",
        "\n",
        "    weather_data = get_weather(api_key, location)\n",
        "\n",
        "    if weather_data:\n",
        "        display_weather(weather_data)\n",
        "\n",
        "if __name__ == \"__main__\":\n",
        "    main()\n"
      ]
    },
    {
      "cell_type": "markdown",
      "source": [
        "TASK - 4 WEATHER FORECAST\n",
        "Developing a weather forecast application using Python. This project will involve\n",
        "retrieving weather data from an API and presenting it in a user-friendly format. The\n",
        "application will provide current weather information, including temperature, humidity,\n",
        "wind speed, and a short description of the weather conditions.\n",
        "User Input: Prompt the user to enter the name of a city or a zip code.\n",
        "API Request: Make an API request to retrieve weather data based on the user's input.\n",
        "Parse and Extract: Extract relevant weather information such as temperature, humidity,\n",
        "and description from the API response.\n",
        "Display Weather: Present the retrieved weather information to the user in a user-friendly\n",
        "format"
      ],
      "metadata": {
        "id": "Y0A1mqN1ovpQ"
      }
    }
  ]
}